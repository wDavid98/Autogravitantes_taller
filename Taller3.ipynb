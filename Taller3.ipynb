{
 "cells": [
  {
   "attachments": {},
   "cell_type": "markdown",
   "metadata": {},
   "source": [
    "\n",
    "# <p style=\"text-align: center;\"> MODELADO DE OBJETOS AUTOGRAVITANTES</p>\n",
    "\n",
    "### <p style=\"text-align: center;\">Camilo Parra, William Romero</p>\n",
    "\n",
    "#### <p style=\"text-align: center;\">Junio de 2023</p>"
   ]
  },
  {
   "attachments": {},
   "cell_type": "markdown",
   "metadata": {},
   "source": [
    "## Pregunta de Investigación\n",
    "\n",
    "La intención de este trabajo es entender , o al menos intuir **¿Cual es la incidencia de los fluidos no pascalianos en la estructura estelar newtoniana y relativistas?**. Esto es, supondremos un perfil de densidad y una forma particular de la distribución de presiones radiales y tangenciales. A partir de esas suposiciones compararemos los perfiles de presión para un espacio de parámetros."
   ]
  },
  {
   "attachments": {},
   "cell_type": "markdown",
   "metadata": {},
   "source": [
    "## ¿Qué y cómo hacerlo?\n",
    "\n",
    "Como lo planteamos inicialmente la intención es entender, o al menos intruir, **el efecto que induce la anisotropía de las presiones en los modelos estelares, tanto newtonianos como relativistas**. Para responder esa pregunta se propone construir dos modelos: **Newtonianos y relativistas** para distintos valores de los parámetros involucrados. "
   ]
  },
  {
   "attachments": {},
   "cell_type": "markdown",
   "metadata": {},
   "source": [
    "Para el modelo newtoniano se deben integrar las ecuaciones:"
   ]
  },
  {
   "attachments": {},
   "cell_type": "markdown",
   "metadata": {},
   "source": [
    "$$ \\frac{\\delta P(r)}{dr} = - \\frac{G m(r) \\rho(r) } { r^{2} } + 2 \\frac{P_{\\perp} - P(r)}{r} \\\\[1cm]\\frac{\\delta m(r) }{\\delta r} = 4\\pi^{2}\\rho(r)  $$ "
   ]
  },
  {
   "attachments": {},
   "cell_type": "markdown",
   "metadata": {},
   "source": [
    "Mientras que para el modelo relativista se deben integrar las siguientes ecuaciones:;"
   ]
  },
  {
   "attachments": {},
   "cell_type": "markdown",
   "metadata": {},
   "source": [
    "$$ \\frac{\\delta P(r)}{dr} = - \\frac{G m(r) \\rho(r) }{r^{2}} \\left(1 + \\frac{P(r)}{\\rho(r)c^{2}}\\right) \\left(1 + \\frac{4\\pi^{3}}{}\\right) \\left(1 + \\frac{P(r)}{\\rho(r)c^{2}}\\right) \\left(1 - 2 \\frac{G m(r) }{ rc^{2} }\\right)^{-1} + 2 \\frac{P_{\\perp}(r) - P(r)}{r} \\\\[1cm] \\frac{\\delta m(r)}{dr} = 4\\pi r^{2} \\rho(r)$$"
   ]
  },
  {
   "attachments": {},
   "cell_type": "markdown",
   "metadata": {},
   "source": [
    "utilizando el perfil de de densidad"
   ]
  },
  {
   "attachments": {},
   "cell_type": "markdown",
   "metadata": {},
   "source": [
    "$$ \\bar{p} = (1-B\\bar{r}^{2}) $$"
   ]
  },
  {
   "attachments": {},
   "cell_type": "markdown",
   "metadata": {},
   "source": [
    "De esta manera, para el modelo newtoniano, usando  la estrategia 1,tenemos las condiciones iniciales:\n",
    "\n",
    "$$ \\rho(r) = \\bar{\\rho} \\rho_{o}, \\quad m(r) = \\bar{m} M \\quad P(r) = \\bar{P} \\quad $$"
   ]
  },
  {
   "attachments": {},
   "cell_type": "markdown",
   "metadata": {},
   "source": []
  }
 ],
 "metadata": {
  "kernelspec": {
   "display_name": "base",
   "language": "python",
   "name": "python3"
  },
  "language_info": {
   "codemirror_mode": {
    "name": "ipython",
    "version": 3
   },
   "file_extension": ".py",
   "mimetype": "text/x-python",
   "name": "python",
   "nbconvert_exporter": "python",
   "pygments_lexer": "ipython3",
   "version": "3.9.13"
  },
  "orig_nbformat": 4
 },
 "nbformat": 4,
 "nbformat_minor": 2
}
