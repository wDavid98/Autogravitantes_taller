{
 "cells": [
  {
   "attachments": {},
   "cell_type": "markdown",
   "metadata": {},
   "source": [
    "# <p style=\"text-align: center;\"> MODELADO DE OBJETOS AUTOGRAVITANTES</p>\n",
    "\n",
    "### <p style=\"text-align: center;\">Camilo Parra, William Romero</p>\n",
    "\n",
    "#### <p style=\"text-align: center;\">Junio de 2023</p>"
   ]
  },
  {
   "attachments": {},
   "cell_type": "markdown",
   "metadata": {},
   "source": [
    "## Pregunta de Investigación\n",
    "\n",
    "La intención de este trabajo es entender , o al menos intuir "
   ]
  },
  {
   "cell_type": "code",
   "execution_count": null,
   "metadata": {
    "vscode": {
     "languageId": "plaintext"
    }
   },
   "outputs": [],
   "source": []
  }
 ],
 "metadata": {
  "language_info": {
   "name": "python"
  },
  "orig_nbformat": 4
 },
 "nbformat": 4,
 "nbformat_minor": 2
}
