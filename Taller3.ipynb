{
 "cells": [
  {
   "attachments": {},
   "cell_type": "markdown",
   "metadata": {},
   "source": [
    "\n",
    "# <p style=\"text-align: center;\"> MODELADO DE OBJETOS AUTOGRAVITANTES</p>\n",
    "\n",
    "### <p style=\"text-align: center;\">Camilo Parra, William Romero</p>\n",
    "\n",
    "#### <p style=\"text-align: center;\">Junio de 2023</p>"
   ]
  },
  {
   "attachments": {},
   "cell_type": "markdown",
   "metadata": {},
   "source": [
    "## Pregunta de Investigación\n",
    "\n",
    "La intención de este trabajo es entender , o al menos intuir ¿Cual es la incidencia de los fluidos no pascalianos en la estructura estelar newtoniana y relativistas?. Esto es, supondremos un perfil de densidad y una forma particular de la distribución de presiones radiales y tangenciales. A partir de esas suposiciones compararemos los perfiles de presión para un espacio de parámetros."
   ]
  },
  {
   "attachments": {},
   "cell_type": "markdown",
   "metadata": {},
   "source": [
    "### 1. Modelando objetos autogravitantes"
   ]
  },
  {
   "attachments": {},
   "cell_type": "markdown",
   "metadata": {},
   "source": [
    "#### 1.1. El concepto"
   ]
  },
  {
   "attachments": {},
   "cell_type": "markdown",
   "metadata": {},
   "source": [
    "$$\\frac{\\delta P(r)}{\\delta r}$$"
   ]
  },
  {
   "attachments": {},
   "cell_type": "markdown",
   "metadata": {},
   "source": []
  }
 ],
 "metadata": {
  "kernelspec": {
   "display_name": "base",
   "language": "python",
   "name": "python3"
  },
  "language_info": {
   "codemirror_mode": {
    "name": "ipython",
    "version": 3
   },
   "file_extension": ".py",
   "mimetype": "text/x-python",
   "name": "python",
   "nbconvert_exporter": "python",
   "pygments_lexer": "ipython3",
   "version": "3.9.13"
  },
  "orig_nbformat": 4
 },
 "nbformat": 4,
 "nbformat_minor": 2
}
